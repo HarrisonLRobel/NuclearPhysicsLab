{
 "cells": [
  {
   "cell_type": "markdown",
   "metadata": {},
   "source": [
    "# Analysis for the Hydrogen Laser Spectroscopy Experiment\r\n",
    "\r\n",
    "In this experiment we used laser spectroscopy to measure the Lamb Shift in the \r\n",
    "hydrogen atom Balmer α transition. This measurement was a very important discovery and lead \r\n",
    "to the development of quantum electrodynamics. In 1887, Michelson discovered that the \r\n",
    "Balmer α line was two lines and not one line as predicted by Bohr’s model for the hydrogen \r\n",
    "atom. Another experiment was done that showed that the energy separation in the 3D3/2 → \r\n",
    "2P1/2 and 3P1/2→ 2S1/2 transitions were not the same, which according to Dirac’s model would \r\n",
    "simply be the difference in energy of the 3D3/2 and 3P1/2 states because the 2S1/2 and 2P1/2 have \r\n",
    "the same j values. Lamb and Rutherford performed an experiment that showed that the \r\n",
    "energies in the 3D3/2 and 3P1/2 states were not in fact the same. This difference is known as the \r\n",
    "Lamb Shift. The goal of our experiment is to observe and measure the Lamb Shift. This was \r\n",
    "done by using laser spectroscopy to measure dips in intensity at certain frequencies. "
   ]
  },
  {
   "cell_type": "code",
   "execution_count": 1,
   "metadata": {},
   "outputs": [],
   "source": [
    "import numpy as np\r\n",
    "import scipy.constants as const\r\n",
    "import uncertainties as unc\r\n",
    "import uncertainties.unumpy as up\r\n",
    "import matplotlib.pyplot as plt\r\n",
    "import pandas as pd\r\n",
    "%matplotlib inline"
   ]
  },
  {
   "cell_type": "code",
   "execution_count": 2,
   "metadata": {},
   "outputs": [],
   "source": [
    "import matplotlib as mpl\r\n",
    "mpl.rcParams['figure.figsize'] = 11.0,8.0  # Roughly 11 cm wide by 8 cm high\r\n",
    "mpl.rcParams['font.size'] = 12.0 #12 point font"
   ]
  },
  {
   "cell_type": "markdown",
   "metadata": {},
   "source": [
    "## Read in the hydrogen spectrum data\r\n"
   ]
  },
  {
   "cell_type": "code",
   "execution_count": 3,
   "metadata": {},
   "outputs": [],
   "source": [
    "Hdata = pd.read_excel('Lab 5 data.xlsx', sheet_name = None)\r\n",
    "Mirror_sep = Hdata['Mirror separations']\r\n",
    "FP_RL = Hdata['F-P peaks for right-to-left']\r\n",
    "PB_RL = Hdata['probe-beam peaks for right-to-l']\r\n",
    "FP_LR = Hdata['F-P peaks for left-to-right']\r\n",
    "PB_LR = Hdata['probe-beam peaks left-to-right']"
   ]
  },
  {
   "cell_type": "code",
   "execution_count": 4,
   "metadata": {},
   "outputs": [
    {
     "data": {
      "text/plain": [
       "{'Mirror separations':          cm  inches\n",
       " 0  10.03046   3.949\n",
       " 1  10.02538   3.947\n",
       " 2  10.01776   3.944\n",
       " 3  10.00760   3.940\n",
       " 4   9.99490   3.935\n",
       " 5  10.02792   3.948\n",
       " 6  10.01776   3.944\n",
       " 7   9.98474   3.931\n",
       " 8   9.98474   3.931,\n",
       " 'F-P peaks for right-to-left':     Peak  Position\n",
       " 0      1      10.1\n",
       " 1      2      20.3\n",
       " 2      3      30.5\n",
       " 3      4      41.2\n",
       " 4      5      51.7\n",
       " 5      6      62.1\n",
       " 6      7      72.2\n",
       " 7      8      83.8\n",
       " 8      9      94.1\n",
       " 9     10     105.5\n",
       " 10    11     117.4\n",
       " 11    12     129.5,\n",
       " 'probe-beam peaks for right-to-l':    Peak  Position  Uncertainty\n",
       " 0     1      32.4         0.05\n",
       " 1     2      70.9         0.20\n",
       " 2     3      82.7         0.50\n",
       " 3     4      94.8         0.25\n",
       " 4     5     102.4         0.05,\n",
       " 'F-P peaks for left-to-right':     Peak  Position\n",
       " 0      1       2.5\n",
       " 1      2      16.9\n",
       " 2      3      29.2\n",
       " 3      4      41.8\n",
       " 4      5      53.6\n",
       " 5      6      64.7\n",
       " 6      7      75.1\n",
       " 7      8      85.9\n",
       " 8      9      95.3\n",
       " 9     10     105.6\n",
       " 10    11     124.8\n",
       " 11    12     134.1,\n",
       " 'probe-beam peaks left-to-right':    Peak  Position  Uncertainty\n",
       " 0     1      42.3         0.05\n",
       " 1     2      83.1         0.45\n",
       " 2     3      94.5         0.50\n",
       " 3     4     106.1         0.35\n",
       " 4     5     112.9         0.15}"
      ]
     },
     "execution_count": 4,
     "metadata": {},
     "output_type": "execute_result"
    }
   ],
   "source": [
    "Hdata"
   ]
  },
  {
   "cell_type": "markdown",
   "metadata": {},
   "source": [
    "##  Mirror separation & Free spectral range\r\n",
    "\r\n",
    "The free spectral range is \r\n",
    "\r\n",
    "$$ FSR = \\frac{c}{2d}$$"
   ]
  },
  {
   "cell_type": "code",
   "execution_count": 5,
   "metadata": {
    "scrolled": true
   },
   "outputs": [
    {
     "data": {
      "text/html": [
       "<div>\n",
       "<style scoped>\n",
       "    .dataframe tbody tr th:only-of-type {\n",
       "        vertical-align: middle;\n",
       "    }\n",
       "\n",
       "    .dataframe tbody tr th {\n",
       "        vertical-align: top;\n",
       "    }\n",
       "\n",
       "    .dataframe thead th {\n",
       "        text-align: right;\n",
       "    }\n",
       "</style>\n",
       "<table border=\"1\" class=\"dataframe\">\n",
       "  <thead>\n",
       "    <tr style=\"text-align: right;\">\n",
       "      <th></th>\n",
       "      <th>cm</th>\n",
       "      <th>inches</th>\n",
       "      <th>meter</th>\n",
       "    </tr>\n",
       "  </thead>\n",
       "  <tbody>\n",
       "    <tr>\n",
       "      <th>0</th>\n",
       "      <td>10.03046</td>\n",
       "      <td>3.949</td>\n",
       "      <td>0.100305</td>\n",
       "    </tr>\n",
       "    <tr>\n",
       "      <th>1</th>\n",
       "      <td>10.02538</td>\n",
       "      <td>3.947</td>\n",
       "      <td>0.100254</td>\n",
       "    </tr>\n",
       "    <tr>\n",
       "      <th>2</th>\n",
       "      <td>10.01776</td>\n",
       "      <td>3.944</td>\n",
       "      <td>0.100178</td>\n",
       "    </tr>\n",
       "    <tr>\n",
       "      <th>3</th>\n",
       "      <td>10.00760</td>\n",
       "      <td>3.940</td>\n",
       "      <td>0.100076</td>\n",
       "    </tr>\n",
       "    <tr>\n",
       "      <th>4</th>\n",
       "      <td>9.99490</td>\n",
       "      <td>3.935</td>\n",
       "      <td>0.099949</td>\n",
       "    </tr>\n",
       "    <tr>\n",
       "      <th>5</th>\n",
       "      <td>10.02792</td>\n",
       "      <td>3.948</td>\n",
       "      <td>0.100279</td>\n",
       "    </tr>\n",
       "    <tr>\n",
       "      <th>6</th>\n",
       "      <td>10.01776</td>\n",
       "      <td>3.944</td>\n",
       "      <td>0.100178</td>\n",
       "    </tr>\n",
       "    <tr>\n",
       "      <th>7</th>\n",
       "      <td>9.98474</td>\n",
       "      <td>3.931</td>\n",
       "      <td>0.099847</td>\n",
       "    </tr>\n",
       "    <tr>\n",
       "      <th>8</th>\n",
       "      <td>9.98474</td>\n",
       "      <td>3.931</td>\n",
       "      <td>0.099847</td>\n",
       "    </tr>\n",
       "  </tbody>\n",
       "</table>\n",
       "</div>"
      ],
      "text/plain": [
       "         cm  inches     meter\n",
       "0  10.03046   3.949  0.100305\n",
       "1  10.02538   3.947  0.100254\n",
       "2  10.01776   3.944  0.100178\n",
       "3  10.00760   3.940  0.100076\n",
       "4   9.99490   3.935  0.099949\n",
       "5  10.02792   3.948  0.100279\n",
       "6  10.01776   3.944  0.100178\n",
       "7   9.98474   3.931  0.099847\n",
       "8   9.98474   3.931  0.099847"
      ]
     },
     "execution_count": 5,
     "metadata": {},
     "output_type": "execute_result"
    }
   ],
   "source": [
    "Mirror_sep['meter'] = Mirror_sep['cm']/100\r\n",
    "Mirror_sep"
   ]
  },
  {
   "cell_type": "code",
   "execution_count": 6,
   "metadata": {},
   "outputs": [
    {
     "name": "stdout",
     "output_type": "stream",
     "text": [
      "Fabry-Perot mirror separation = 10.01±0.02 cm\n",
      "F-P set free spectral range = 1497±3 MHz\n"
     ]
    }
   ],
   "source": [
    "mirror = Mirror_sep['meter']\r\n",
    "\r\n",
    "FP_sep = np.mean(mirror)\r\n",
    "FP_sep_stderr = np.std(mirror)\r\n",
    "\r\n",
    "uFP_sep = unc.ufloat(FP_sep,FP_sep_stderr)\r\n",
    "print('Fabry-Perot mirror separation = {:.1uP} cm'.format(uFP_sep/const.centi))\r\n",
    "\r\n",
    "uFSR = const.c / (2 * uFP_sep)\r\n",
    "print('F-P set free spectral range = {:.1uP} MHz'.format(uFSR/const.mega))"
   ]
  },
  {
   "cell_type": "markdown",
   "metadata": {},
   "source": [
    "## Left-to-right scan analysis"
   ]
  },
  {
   "cell_type": "code",
   "execution_count": 7,
   "metadata": {},
   "outputs": [
    {
     "data": {
      "text/html": [
       "<div>\n",
       "<style scoped>\n",
       "    .dataframe tbody tr th:only-of-type {\n",
       "        vertical-align: middle;\n",
       "    }\n",
       "\n",
       "    .dataframe tbody tr th {\n",
       "        vertical-align: top;\n",
       "    }\n",
       "\n",
       "    .dataframe thead th {\n",
       "        text-align: right;\n",
       "    }\n",
       "</style>\n",
       "<table border=\"1\" class=\"dataframe\">\n",
       "  <thead>\n",
       "    <tr style=\"text-align: right;\">\n",
       "      <th></th>\n",
       "      <th>Peak</th>\n",
       "      <th>Position</th>\n",
       "      <th>index</th>\n",
       "    </tr>\n",
       "  </thead>\n",
       "  <tbody>\n",
       "    <tr>\n",
       "      <th>0</th>\n",
       "      <td>1</td>\n",
       "      <td>2.5</td>\n",
       "      <td>0</td>\n",
       "    </tr>\n",
       "    <tr>\n",
       "      <th>1</th>\n",
       "      <td>2</td>\n",
       "      <td>16.9</td>\n",
       "      <td>1</td>\n",
       "    </tr>\n",
       "    <tr>\n",
       "      <th>2</th>\n",
       "      <td>3</td>\n",
       "      <td>29.2</td>\n",
       "      <td>2</td>\n",
       "    </tr>\n",
       "    <tr>\n",
       "      <th>3</th>\n",
       "      <td>4</td>\n",
       "      <td>41.8</td>\n",
       "      <td>3</td>\n",
       "    </tr>\n",
       "    <tr>\n",
       "      <th>4</th>\n",
       "      <td>5</td>\n",
       "      <td>53.6</td>\n",
       "      <td>4</td>\n",
       "    </tr>\n",
       "    <tr>\n",
       "      <th>5</th>\n",
       "      <td>6</td>\n",
       "      <td>64.7</td>\n",
       "      <td>5</td>\n",
       "    </tr>\n",
       "    <tr>\n",
       "      <th>6</th>\n",
       "      <td>7</td>\n",
       "      <td>75.1</td>\n",
       "      <td>6</td>\n",
       "    </tr>\n",
       "    <tr>\n",
       "      <th>7</th>\n",
       "      <td>8</td>\n",
       "      <td>85.9</td>\n",
       "      <td>7</td>\n",
       "    </tr>\n",
       "    <tr>\n",
       "      <th>8</th>\n",
       "      <td>9</td>\n",
       "      <td>95.3</td>\n",
       "      <td>8</td>\n",
       "    </tr>\n",
       "    <tr>\n",
       "      <th>9</th>\n",
       "      <td>10</td>\n",
       "      <td>105.6</td>\n",
       "      <td>9</td>\n",
       "    </tr>\n",
       "    <tr>\n",
       "      <th>10</th>\n",
       "      <td>11</td>\n",
       "      <td>124.8</td>\n",
       "      <td>10</td>\n",
       "    </tr>\n",
       "    <tr>\n",
       "      <th>11</th>\n",
       "      <td>12</td>\n",
       "      <td>134.1</td>\n",
       "      <td>11</td>\n",
       "    </tr>\n",
       "  </tbody>\n",
       "</table>\n",
       "</div>"
      ],
      "text/plain": [
       "    Peak  Position  index\n",
       "0      1       2.5      0\n",
       "1      2      16.9      1\n",
       "2      3      29.2      2\n",
       "3      4      41.8      3\n",
       "4      5      53.6      4\n",
       "5      6      64.7      5\n",
       "6      7      75.1      6\n",
       "7      8      85.9      7\n",
       "8      9      95.3      8\n",
       "9     10     105.6      9\n",
       "10    11     124.8     10\n",
       "11    12     134.1     11"
      ]
     },
     "execution_count": 7,
     "metadata": {},
     "output_type": "execute_result"
    }
   ],
   "source": [
    "FP_LR['index'] = list(FP_LR.index)\r\n",
    "FP_LR"
   ]
  },
  {
   "cell_type": "markdown",
   "metadata": {},
   "source": [
    "Then set up the fitting."
   ]
  },
  {
   "cell_type": "code",
   "execution_count": 8,
   "metadata": {},
   "outputs": [],
   "source": [
    "from lmfit.models import PolynomialModel\r\n",
    "\r\n",
    "curve = PolynomialModel(degree=3)\r\n",
    "\r\n",
    "def poly_fit_and_plot(xdata, ydata, model=PolynomialModel(degree=3)):\r\n",
    "\r\n",
    "    param_guess = model.guess(ydata, x = xdata)\r\n",
    "    model_fit = model.fit(ydata, param_guess, x = xdata)\r\n",
    "\r\n",
    "    model_fit.plot();\r\n",
    "    return model_fit.params"
   ]
  },
  {
   "cell_type": "markdown",
   "metadata": {},
   "source": [
    "Execute the fitting."
   ]
  },
  {
   "cell_type": "code",
   "execution_count": 9,
   "metadata": {},
   "outputs": [
    {
     "data": {
      "image/png": "[encoded data removed]",
      "text/plain": [
       "<Figure size 792x792 with 2 Axes>"
      ]
     },
     "metadata": {
      "needs_background": "light"
     },
     "output_type": "display_data"
    }
   ],
   "source": [
    "FP_LR_fit = poly_fit_and_plot(FP_LR['Position'],FP_LR['index'])"
   ]
  },
  {
   "cell_type": "markdown",
   "metadata": {},
   "source": [
    "### Make the calibration function\n",
    "\n",
    "You can use the same method to make the calibration curve as you used in teh Zeeman effect experiment, e.g., use `eval()` with the fit coefficients."
   ]
  },
  {
   "cell_type": "code",
   "execution_count": 10,
   "metadata": {},
   "outputs": [
    {
     "name": "stdout",
     "output_type": "stream",
     "text": [
      "9.929543059930705\n"
     ]
    }
   ],
   "source": [
    "def cal_LR(x,model=PolynomialModel(degree=3),params=FP_LR_fit):\r\n",
    "    return model.eval(params, x=x)\r\n",
    "print(cal_LR(120))"
   ]
  },
  {
   "cell_type": "code",
   "execution_count": 11,
   "metadata": {},
   "outputs": [
    {
     "name": "stdout",
     "output_type": "stream",
     "text": [
      "Left-to-right scan probe-beam peak locations:\n"
     ]
    },
    {
     "data": {
      "text/html": [
       "<div>\n",
       "<style scoped>\n",
       "    .dataframe tbody tr th:only-of-type {\n",
       "        vertical-align: middle;\n",
       "    }\n",
       "\n",
       "    .dataframe tbody tr th {\n",
       "        vertical-align: top;\n",
       "    }\n",
       "\n",
       "    .dataframe thead th {\n",
       "        text-align: right;\n",
       "    }\n",
       "</style>\n",
       "<table border=\"1\" class=\"dataframe\">\n",
       "  <thead>\n",
       "    <tr style=\"text-align: right;\">\n",
       "      <th></th>\n",
       "      <th>Paper</th>\n",
       "      <th>FSR</th>\n",
       "      <th>MHz</th>\n",
       "      <th>Rel MHz</th>\n",
       "    </tr>\n",
       "  </thead>\n",
       "  <tbody>\n",
       "    <tr>\n",
       "      <th>0</th>\n",
       "      <td>42.30+/-0.05</td>\n",
       "      <td>3.027+/-0.004</td>\n",
       "      <td>4532+/-10</td>\n",
       "      <td>0+/-10</td>\n",
       "    </tr>\n",
       "    <tr>\n",
       "      <th>1</th>\n",
       "      <td>83.1+/-0.5</td>\n",
       "      <td>6.80+/-0.04</td>\n",
       "      <td>(1.018+/-0.006)e+04</td>\n",
       "      <td>(5.65+/-0.06)e+03</td>\n",
       "    </tr>\n",
       "    <tr>\n",
       "      <th>2</th>\n",
       "      <td>94.5+/-0.5</td>\n",
       "      <td>7.83+/-0.04</td>\n",
       "      <td>(1.173+/-0.007)e+04</td>\n",
       "      <td>(7.20+/-0.07)e+03</td>\n",
       "    </tr>\n",
       "    <tr>\n",
       "      <th>3</th>\n",
       "      <td>106.10+/-0.35</td>\n",
       "      <td>8.835+/-0.029</td>\n",
       "      <td>(1.323+/-0.005)e+04</td>\n",
       "      <td>(8.70+/-0.05)e+03</td>\n",
       "    </tr>\n",
       "    <tr>\n",
       "      <th>4</th>\n",
       "      <td>112.90+/-0.15</td>\n",
       "      <td>9.387+/-0.012</td>\n",
       "      <td>14057+/-30</td>\n",
       "      <td>9525+/-30</td>\n",
       "    </tr>\n",
       "  </tbody>\n",
       "</table>\n",
       "</div>"
      ],
      "text/plain": [
       "           Paper            FSR                  MHz            Rel MHz\n",
       "0   42.30+/-0.05  3.027+/-0.004            4532+/-10             0+/-10\n",
       "1     83.1+/-0.5    6.80+/-0.04  (1.018+/-0.006)e+04  (5.65+/-0.06)e+03\n",
       "2     94.5+/-0.5    7.83+/-0.04  (1.173+/-0.007)e+04  (7.20+/-0.07)e+03\n",
       "3  106.10+/-0.35  8.835+/-0.029  (1.323+/-0.005)e+04  (8.70+/-0.05)e+03\n",
       "4  112.90+/-0.15  9.387+/-0.012           14057+/-30          9525+/-30"
      ]
     },
     "execution_count": 11,
     "metadata": {},
     "output_type": "execute_result"
    }
   ],
   "source": [
    "probe_LR = up.uarray(PB_LR['Position'],PB_LR['Uncertainty'])\r\n",
    "\r\n",
    "Left_Right_spectrum = pd.DataFrame({'Paper': probe_LR,\r\n",
    "                                    'FSR': cal_LR(probe_LR),\r\n",
    "                                    'MHz': uFSR*cal_LR(probe_LR)/const.mega,\r\n",
    "                                    'Rel MHz': uFSR*cal_LR(probe_LR)/const.mega - 4532\r\n",
    "                                   })\r\n",
    "\r\n",
    "print('Left-to-right scan probe-beam peak locations:')\r\n",
    "Left_Right_spectrum"
   ]
  },
  {
   "cell_type": "markdown",
   "metadata": {},
   "source": [
    "### Calculate separations\r\n",
    "\r\n",
    "* The Lamb shift: 2S<sub>1/2</sub> - 3P<sub>3/2</sub> to 2P<sub>1/2</sub> - 3D<sub>3/2</sub> frequency separation (with uncertainty) for both scans.\r\n",
    "* The 2P<sub>3/2</sub>  - 3D<sub>5/2</sub> to 2P<sub>1/2</sub> - 3D<sub>3/2</sub>  frequency separation, i.e., highest frequency peak to lowest frequency peak (with uncertainty) for both scans.\r\n",
    "* The 2P<sub>3/2</sub>  - 3D<sub>5/2</sub> to 2S<sub>1/2</sub> - 3P<sub>1/2</sub> frequency separation, i.e., tallest to smallest peak (with uncertaintyl) for both scans.\r\n"
   ]
  },
  {
   "cell_type": "code",
   "execution_count": 12,
   "metadata": {},
   "outputs": [
    {
     "data": {
      "text/html": [
       "<div>\n",
       "<style scoped>\n",
       "    .dataframe tbody tr th:only-of-type {\n",
       "        vertical-align: middle;\n",
       "    }\n",
       "\n",
       "    .dataframe tbody tr th {\n",
       "        vertical-align: top;\n",
       "    }\n",
       "\n",
       "    .dataframe thead th {\n",
       "        text-align: right;\n",
       "    }\n",
       "</style>\n",
       "<table border=\"1\" class=\"dataframe\">\n",
       "  <thead>\n",
       "    <tr style=\"text-align: right;\">\n",
       "      <th></th>\n",
       "      <th>Separations</th>\n",
       "      <th>L-R (MHz)</th>\n",
       "    </tr>\n",
       "  </thead>\n",
       "  <tbody>\n",
       "    <tr>\n",
       "      <th>0</th>\n",
       "      <td>2S1/2-3P 3/2 to 2P1/2-3D3/2</td>\n",
       "      <td>(8.3+/-0.5)e+02</td>\n",
       "    </tr>\n",
       "    <tr>\n",
       "      <th>1</th>\n",
       "      <td>2P3/2-3D5/2 to 2P1/2-3D3/2</td>\n",
       "      <td>9525+/-25</td>\n",
       "    </tr>\n",
       "    <tr>\n",
       "      <th>2</th>\n",
       "      <td>2P3/2-3D5/2 to 2S1/2-3P1/2</td>\n",
       "      <td>(5.65+/-0.06)e+03</td>\n",
       "    </tr>\n",
       "  </tbody>\n",
       "</table>\n",
       "</div>"
      ],
      "text/plain": [
       "                   Separations          L-R (MHz)\n",
       "0  2S1/2-3P 3/2 to 2P1/2-3D3/2    (8.3+/-0.5)e+02\n",
       "1   2P3/2-3D5/2 to 2P1/2-3D3/2          9525+/-25\n",
       "2   2P3/2-3D5/2 to 2S1/2-3P1/2  (5.65+/-0.06)e+03"
      ]
     },
     "execution_count": 12,
     "metadata": {},
     "output_type": "execute_result"
    }
   ],
   "source": [
    "seps_list = ['2S1/2-3P 3/2 to 2P1/2-3D3/2', '2P3/2-3D5/2 to 2P1/2-3D3/2','2P3/2-3D5/2 to 2S1/2-3P1/2']\r\n",
    "\r\n",
    "rel_MHz_LR = Left_Right_spectrum['MHz']\r\n",
    "\r\n",
    "LR1 = rel_MHz_LR[4]-rel_MHz_LR[3]\r\n",
    "LR2 = rel_MHz_LR[4]-rel_MHz_LR[0]\r\n",
    "LR3 = rel_MHz_LR[1]-rel_MHz_LR[0]\r\n",
    "\r\n",
    "LR_list = [LR1,LR2,LR3]\r\n",
    "\r\n",
    "Results = pd.DataFrame({'Separations': seps_list,\r\n",
    "                            'L-R (MHz)':LR_list})\r\n",
    "\r\n",
    "Results"
   ]
  },
  {
   "cell_type": "markdown",
   "metadata": {},
   "source": [
    "## Right-to-left scan analysis"
   ]
  },
  {
   "cell_type": "code",
   "execution_count": 13,
   "metadata": {},
   "outputs": [
    {
     "data": {
      "text/html": [
       "<div>\n",
       "<style scoped>\n",
       "    .dataframe tbody tr th:only-of-type {\n",
       "        vertical-align: middle;\n",
       "    }\n",
       "\n",
       "    .dataframe tbody tr th {\n",
       "        vertical-align: top;\n",
       "    }\n",
       "\n",
       "    .dataframe thead th {\n",
       "        text-align: right;\n",
       "    }\n",
       "</style>\n",
       "<table border=\"1\" class=\"dataframe\">\n",
       "  <thead>\n",
       "    <tr style=\"text-align: right;\">\n",
       "      <th></th>\n",
       "      <th>Peak</th>\n",
       "      <th>Position</th>\n",
       "      <th>index</th>\n",
       "    </tr>\n",
       "  </thead>\n",
       "  <tbody>\n",
       "    <tr>\n",
       "      <th>0</th>\n",
       "      <td>1</td>\n",
       "      <td>10.1</td>\n",
       "      <td>0</td>\n",
       "    </tr>\n",
       "    <tr>\n",
       "      <th>1</th>\n",
       "      <td>2</td>\n",
       "      <td>20.3</td>\n",
       "      <td>1</td>\n",
       "    </tr>\n",
       "    <tr>\n",
       "      <th>2</th>\n",
       "      <td>3</td>\n",
       "      <td>30.5</td>\n",
       "      <td>2</td>\n",
       "    </tr>\n",
       "    <tr>\n",
       "      <th>3</th>\n",
       "      <td>4</td>\n",
       "      <td>41.2</td>\n",
       "      <td>3</td>\n",
       "    </tr>\n",
       "    <tr>\n",
       "      <th>4</th>\n",
       "      <td>5</td>\n",
       "      <td>51.7</td>\n",
       "      <td>4</td>\n",
       "    </tr>\n",
       "    <tr>\n",
       "      <th>5</th>\n",
       "      <td>6</td>\n",
       "      <td>62.1</td>\n",
       "      <td>5</td>\n",
       "    </tr>\n",
       "    <tr>\n",
       "      <th>6</th>\n",
       "      <td>7</td>\n",
       "      <td>72.2</td>\n",
       "      <td>6</td>\n",
       "    </tr>\n",
       "    <tr>\n",
       "      <th>7</th>\n",
       "      <td>8</td>\n",
       "      <td>83.8</td>\n",
       "      <td>7</td>\n",
       "    </tr>\n",
       "    <tr>\n",
       "      <th>8</th>\n",
       "      <td>9</td>\n",
       "      <td>94.1</td>\n",
       "      <td>8</td>\n",
       "    </tr>\n",
       "    <tr>\n",
       "      <th>9</th>\n",
       "      <td>10</td>\n",
       "      <td>105.5</td>\n",
       "      <td>9</td>\n",
       "    </tr>\n",
       "    <tr>\n",
       "      <th>10</th>\n",
       "      <td>11</td>\n",
       "      <td>117.4</td>\n",
       "      <td>10</td>\n",
       "    </tr>\n",
       "    <tr>\n",
       "      <th>11</th>\n",
       "      <td>12</td>\n",
       "      <td>129.5</td>\n",
       "      <td>11</td>\n",
       "    </tr>\n",
       "  </tbody>\n",
       "</table>\n",
       "</div>"
      ],
      "text/plain": [
       "    Peak  Position  index\n",
       "0      1      10.1      0\n",
       "1      2      20.3      1\n",
       "2      3      30.5      2\n",
       "3      4      41.2      3\n",
       "4      5      51.7      4\n",
       "5      6      62.1      5\n",
       "6      7      72.2      6\n",
       "7      8      83.8      7\n",
       "8      9      94.1      8\n",
       "9     10     105.5      9\n",
       "10    11     117.4     10\n",
       "11    12     129.5     11"
      ]
     },
     "execution_count": 13,
     "metadata": {},
     "output_type": "execute_result"
    }
   ],
   "source": [
    "FP_RL['index'] = list(FP_RL.index)\r\n",
    "FP_RL"
   ]
  },
  {
   "cell_type": "code",
   "execution_count": 14,
   "metadata": {},
   "outputs": [
    {
     "data": {
      "image/png": "[encoded data removed]",
      "text/plain": [
       "<Figure size 792x792 with 2 Axes>"
      ]
     },
     "metadata": {
      "needs_background": "light"
     },
     "output_type": "display_data"
    }
   ],
   "source": [
    "FP_RL_fit = poly_fit_and_plot(FP_RL['Position'],FP_RL['index'])"
   ]
  },
  {
   "cell_type": "markdown",
   "metadata": {},
   "source": [
    "### Make the calibration for the R-L scan\n"
   ]
  },
  {
   "cell_type": "code",
   "execution_count": 15,
   "metadata": {},
   "outputs": [
    {
     "name": "stdout",
     "output_type": "stream",
     "text": [
      "10.22496188545882\n"
     ]
    }
   ],
   "source": [
    "def cal_RL(x,model=PolynomialModel(degree=3),params=FP_RL_fit):\r\n",
    "    return model.eval(params, x=x)\r\n",
    "\r\n",
    "print(cal_RL(120))"
   ]
  },
  {
   "cell_type": "markdown",
   "metadata": {},
   "source": [
    "### Calculate the spectrum\n",
    "\n",
    "Carry out the calculation and table construction for the right-to-left scan."
   ]
  },
  {
   "cell_type": "code",
   "execution_count": 16,
   "metadata": {},
   "outputs": [
    {
     "name": "stdout",
     "output_type": "stream",
     "text": [
      "Right-to-left scan probe-beam peak locations:\n"
     ]
    },
    {
     "data": {
      "text/html": [
       "<div>\n",
       "<style scoped>\n",
       "    .dataframe tbody tr th:only-of-type {\n",
       "        vertical-align: middle;\n",
       "    }\n",
       "\n",
       "    .dataframe tbody tr th {\n",
       "        vertical-align: top;\n",
       "    }\n",
       "\n",
       "    .dataframe thead th {\n",
       "        text-align: right;\n",
       "    }\n",
       "</style>\n",
       "<table border=\"1\" class=\"dataframe\">\n",
       "  <thead>\n",
       "    <tr style=\"text-align: right;\">\n",
       "      <th></th>\n",
       "      <th>Paper</th>\n",
       "      <th>FSR</th>\n",
       "      <th>MHz</th>\n",
       "      <th>Rel MHz</th>\n",
       "    </tr>\n",
       "  </thead>\n",
       "  <tbody>\n",
       "    <tr>\n",
       "      <th>0</th>\n",
       "      <td>32.40+/-0.05</td>\n",
       "      <td>2.159+/-0.005</td>\n",
       "      <td>3233+/-9</td>\n",
       "      <td>0+/-9</td>\n",
       "    </tr>\n",
       "    <tr>\n",
       "      <th>1</th>\n",
       "      <td>70.90+/-0.20</td>\n",
       "      <td>5.843+/-0.019</td>\n",
       "      <td>8749+/-32</td>\n",
       "      <td>5516+/-32</td>\n",
       "    </tr>\n",
       "    <tr>\n",
       "      <th>2</th>\n",
       "      <td>82.7+/-0.5</td>\n",
       "      <td>6.94+/-0.05</td>\n",
       "      <td>(1.039+/-0.007)e+04</td>\n",
       "      <td>(7.16+/-0.07)e+03</td>\n",
       "    </tr>\n",
       "    <tr>\n",
       "      <th>3</th>\n",
       "      <td>94.80+/-0.25</td>\n",
       "      <td>8.041+/-0.022</td>\n",
       "      <td>(1.204+/-0.004)e+04</td>\n",
       "      <td>(8.81+/-0.04)e+03</td>\n",
       "    </tr>\n",
       "    <tr>\n",
       "      <th>4</th>\n",
       "      <td>102.40+/-0.05</td>\n",
       "      <td>8.717+/-0.004</td>\n",
       "      <td>13053+/-23</td>\n",
       "      <td>9820+/-23</td>\n",
       "    </tr>\n",
       "  </tbody>\n",
       "</table>\n",
       "</div>"
      ],
      "text/plain": [
       "           Paper            FSR                  MHz            Rel MHz\n",
       "0   32.40+/-0.05  2.159+/-0.005             3233+/-9              0+/-9\n",
       "1   70.90+/-0.20  5.843+/-0.019            8749+/-32          5516+/-32\n",
       "2     82.7+/-0.5    6.94+/-0.05  (1.039+/-0.007)e+04  (7.16+/-0.07)e+03\n",
       "3   94.80+/-0.25  8.041+/-0.022  (1.204+/-0.004)e+04  (8.81+/-0.04)e+03\n",
       "4  102.40+/-0.05  8.717+/-0.004           13053+/-23          9820+/-23"
      ]
     },
     "execution_count": 16,
     "metadata": {},
     "output_type": "execute_result"
    }
   ],
   "source": [
    "probe_RL = up.uarray(PB_RL['Position'],PB_RL['Uncertainty'])\r\n",
    "\r\n",
    "Right_Left_spectrum = pd.DataFrame({'Paper': probe_RL,\r\n",
    "                                    'FSR': cal_RL(probe_RL),\r\n",
    "                                    'MHz': uFSR*cal_RL(probe_RL)/const.mega,\r\n",
    "                                    'Rel MHz': uFSR*cal_RL(probe_RL)/const.mega - 3233\r\n",
    "                                   })\r\n",
    "\r\n",
    "print('Right-to-left scan probe-beam peak locations:')\r\n",
    "Right_Left_spectrum"
   ]
  },
  {
   "cell_type": "markdown",
   "metadata": {},
   "source": [
    "### Calculate separations\n",
    "\n",
    "\n",
    "Calculate the separations for the right-to-left scan.\n",
    "\n",
    "Then include this column in the existing DataFrame so that the results can be directly compared"
   ]
  },
  {
   "cell_type": "code",
   "execution_count": 17,
   "metadata": {},
   "outputs": [
    {
     "data": {
      "text/html": [
       "<div>\n",
       "<style scoped>\n",
       "    .dataframe tbody tr th:only-of-type {\n",
       "        vertical-align: middle;\n",
       "    }\n",
       "\n",
       "    .dataframe tbody tr th {\n",
       "        vertical-align: top;\n",
       "    }\n",
       "\n",
       "    .dataframe thead th {\n",
       "        text-align: right;\n",
       "    }\n",
       "</style>\n",
       "<table border=\"1\" class=\"dataframe\">\n",
       "  <thead>\n",
       "    <tr style=\"text-align: right;\">\n",
       "      <th></th>\n",
       "      <th>Separations</th>\n",
       "      <th>L-R (MHz)</th>\n",
       "      <th>R-L (MHz)</th>\n",
       "      <th>Average</th>\n",
       "      <th>Expected (MHz)</th>\n",
       "    </tr>\n",
       "  </thead>\n",
       "  <tbody>\n",
       "    <tr>\n",
       "      <th>0</th>\n",
       "      <td>2S1/2-3P 3/2 to 2P1/2-3D3/2</td>\n",
       "      <td>(8.3+/-0.5)e+02</td>\n",
       "      <td>1012+/-34</td>\n",
       "      <td>919+/-29</td>\n",
       "      <td>1058</td>\n",
       "    </tr>\n",
       "    <tr>\n",
       "      <th>1</th>\n",
       "      <td>2P3/2-3D5/2 to 2P1/2-3D3/2</td>\n",
       "      <td>9525+/-25</td>\n",
       "      <td>9820+/-19</td>\n",
       "      <td>9672+/-20</td>\n",
       "      <td>9890</td>\n",
       "    </tr>\n",
       "    <tr>\n",
       "      <th>2</th>\n",
       "      <td>2P3/2-3D5/2 to 2S1/2-3P1/2</td>\n",
       "      <td>(5.65+/-0.06)e+03</td>\n",
       "      <td>5516+/-31</td>\n",
       "      <td>(5.58+/-0.04)e+03</td>\n",
       "      <td>5583</td>\n",
       "    </tr>\n",
       "  </tbody>\n",
       "</table>\n",
       "</div>"
      ],
      "text/plain": [
       "                   Separations          L-R (MHz)  R-L (MHz)  \\\n",
       "0  2S1/2-3P 3/2 to 2P1/2-3D3/2    (8.3+/-0.5)e+02  1012+/-34   \n",
       "1   2P3/2-3D5/2 to 2P1/2-3D3/2          9525+/-25  9820+/-19   \n",
       "2   2P3/2-3D5/2 to 2S1/2-3P1/2  (5.65+/-0.06)e+03  5516+/-31   \n",
       "\n",
       "             Average  Expected (MHz)  \n",
       "0           919+/-29            1058  \n",
       "1          9672+/-20            9890  \n",
       "2  (5.58+/-0.04)e+03            5583  "
      ]
     },
     "execution_count": 17,
     "metadata": {},
     "output_type": "execute_result"
    }
   ],
   "source": [
    "Results['R-L (MHz)'] = ['2P3/2-3D5/2 to 2S1/2-3P1/2', '2P3/2-3D5/2 to 2P1/2-3D3/2','2S1/2-3P3/2 to 2P1/2-3D3/2']\r\n",
    "\r\n",
    "rel_MHz_RL = Right_Left_spectrum['MHz']\r\n",
    "\r\n",
    "RL1 = rel_MHz_RL[4]-rel_MHz_RL[3]\r\n",
    "RL2 = rel_MHz_RL[4]-rel_MHz_RL[0]\r\n",
    "RL3 = rel_MHz_RL[1]-rel_MHz_RL[0]\r\n",
    "\r\n",
    "Results['R-L (MHz)'] = [RL1,RL2,RL3]\r\n",
    "\r\n",
    "Results['Average'] = [(RL1+LR1)/2, (RL2+LR2)/2, (RL3+LR3)/2]\r\n",
    "\r\n",
    "Results['Expected (MHz)'] = [1058,9890,5583]\r\n",
    "\r\n",
    "Results"
   ]
  },
  {
   "cell_type": "code",
   "execution_count": 18,
   "metadata": {},
   "outputs": [
    {
     "name": "stdout",
     "output_type": "stream",
     "text": [
      "\n",
      " Fine-structure line separation         |  Measured (MHz) |  Best known value (MHz)\n",
      "----------------------------------------|-----------------|-------------------------\n",
      "2S1/2-3P 3/2 to 2P1/2-3D3/2 (Lamb shift)|   919±29        |   1058\n",
      "2P3/2-3D5/2 to 2P1/2-3D3/2              |   9672±20       |   9890\n",
      "2P3/2-3D5/2 to 2S1/2-3P1/2              |   5581±36       |   5583\n"
     ]
    }
   ],
   "source": [
    "print('\\n Fine-structure line separation         |  Measured (MHz) |  Best known value (MHz)')\n",
    "print('----------------------------------------|-----------------|-------------------------')\n",
    "print('{:s} (Lamb shift)|   {:.2uP}        |   {:.0f}'.format(Results.iloc[0,0],Results['Average'][0],\n",
    "                                                             Results['Expected (MHz)'][0]))\n",
    "print('{:s}              |   {:.2uP}       |   {:.0f}'.format(Results.iloc[1,0],Results['Average'][1],\n",
    "                                                             Results['Expected (MHz)'][1]))\n",
    "print('{:s}              |   {:.2uP}       |   {:.0f}'.format(Results.iloc[2,0],Results['Average'][2],\n",
    "                                                             Results['Expected (MHz)'][2]))"
   ]
  },
  {
   "cell_type": "code",
   "execution_count": null,
   "metadata": {},
   "outputs": [],
   "source": []
  }
 ],
 "metadata": {
  "interpreter": {
   "hash": "7d71111c338497645996e5e06e7d9a298c3a61ed0c73ada9df3ad6ae7d68d146"
  },
  "kernelspec": {
   "display_name": "Python 3.9.5 64-bit",
   "name": "python3"
  },
  "language_info": {
   "name": "python",
   "version": ""
  }
 },
 "nbformat": 4,
 "nbformat_minor": 4
}